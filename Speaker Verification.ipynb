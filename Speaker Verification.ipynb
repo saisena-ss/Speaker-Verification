{
  "cells": [
    {
      "cell_type": "code",
      "execution_count": 1,
      "metadata": {
        "id": "u3McJO88ggqH"
      },
      "outputs": [],
      "source": [
        "import tensorflow as tf\n",
        "import numpy as np\n",
        "import time\n",
        "import matplotlib.pyplot as plt\n",
        "import json\n",
        "import pickle\n",
        "import librosa\n",
        "import os\n",
        "import soundfile as sf\n",
        "from IPython.display import Audio, display\n",
        "plt.style.use('default')"
      ]
    },
    {
      "cell_type": "code",
      "execution_count": 2,
      "metadata": {
        "colab": {
          "base_uri": "https://localhost:8080/"
        },
        "id": "Ogw4XSqW8Sba",
        "outputId": "36925c7d-a128-41a0-9c30-c8f71cd896b0"
      },
      "outputs": [
        {
          "name": "stdout",
          "output_type": "stream",
          "text": [
            "Mounted at /content/drive\n"
          ]
        }
      ],
      "source": [
        "from google.colab import drive\n",
        "drive.mount('/content/drive')"
      ]
    },
    {
      "cell_type": "code",
      "execution_count": 2,
      "metadata": {
        "id": "F822Ener4O99"
      },
      "outputs": [],
      "source": [
        "data_folder = r'/content/drive/MyDrive/'"
      ]
    },
    {
      "cell_type": "markdown",
      "metadata": {
        "id": "umOTgxSEjpoT"
      },
      "source": [
        "# Speaker Verification - Siamese Network"
      ]
    },
    {
      "cell_type": "code",
      "execution_count": 3,
      "metadata": {
        "id": "-sTrRpgDjpKt"
      },
      "outputs": [],
      "source": [
        "#load trs and tes data\n",
        "with open(data_folder+'trs.pkl','rb') as f:\n",
        "  trs_data = pickle.load(f)\n",
        "\n",
        "trs_spectogram = np.abs(np.array([librosa.stft(signal,n_fft=1024, hop_length=512) for signal in trs_data]))\n",
        "\n",
        "with open(data_folder+'tes.pkl','rb') as f:\n",
        "  tes_data = pickle.load(f)\n",
        "\n",
        "tes_spectogram = np.abs(np.array([librosa.stft(signal,n_fft=1024, hop_length=512) for signal in tes_data]))"
      ]
    },
    {
      "cell_type": "code",
      "execution_count": 4,
      "metadata": {
        "colab": {
          "base_uri": "https://localhost:8080/"
        },
        "id": "EU7mBh_Hn8vU",
        "outputId": "25da1a56-beea-4433-9b28-abfe94146c8e"
      },
      "outputs": [
        {
          "name": "stdout",
          "output_type": "stream",
          "text": [
            "(500, 513, 32)\n",
            "(200, 513, 45)\n"
          ]
        }
      ],
      "source": [
        "#check shape of spectograms\n",
        "print(trs_spectogram.shape)\n",
        "print(tes_spectogram.shape)"
      ]
    },
    {
      "cell_type": "code",
      "execution_count": 5,
      "metadata": {
        "id": "i_XmGp0koBvq"
      },
      "outputs": [],
      "source": [
        "def create_pairs(spectogram_data):\n",
        "  L = 45 #taking all possible pairs\n",
        "  minibatch_pairs,minibatch_labels = [],[]\n",
        "  for i in range(0,len(spectogram_data),10):\n",
        "    positive_pairs,negative_pairs = [],[]\n",
        "    speaker_data = spectogram_data[i:i+10]\n",
        "\n",
        "    #generate all possible positive pairs(45 for each speaker)\n",
        "    for j in range(len(speaker_data)):\n",
        "      for k in range(j+1,len(speaker_data)):\n",
        "        positive_pairs.append([speaker_data[j],speaker_data[k]])\n",
        "\n",
        "    # Indices for the other 49 speakers\n",
        "    other_speakers_indices = list(range(0, i)) + list(range(i + 10, len(spectogram_data)))\n",
        "\n",
        "    #negative pairs\n",
        "    for j in range(L):\n",
        "      #choose random index for current speaker\n",
        "      idx1 = np.random.choice(range(10))\n",
        "      random_speaker_idx = np.random.choice(other_speakers_indices)\n",
        "      #make sure that current speaker is not being chosen\n",
        "      if i<=random_speaker_idx<i+10:\n",
        "        print(random_speaker_idx)\n",
        "\n",
        "      negative_pairs.append([speaker_data[idx1],spectogram_data[random_speaker_idx]])\n",
        "\n",
        "    curr_pairs = positive_pairs+negative_pairs\n",
        "    curr_labels = [1] * len(positive_pairs) + [0] * len(negative_pairs)\n",
        "\n",
        "    indices = np.arange(len(curr_pairs))\n",
        "    np.random.shuffle(indices)\n",
        "\n",
        "    curr_pairs = np.array(curr_pairs)[indices].tolist()\n",
        "    curr_labels = np.array(curr_labels)[indices].tolist()\n",
        "\n",
        "    minibatch_pairs.extend(curr_pairs)\n",
        "    minibatch_labels.extend(curr_labels)\n",
        "\n",
        "  minibatch_pairs = np.array(minibatch_pairs)\n",
        "  minibatch_labels = np.array(minibatch_labels)\n",
        "\n",
        "  return minibatch_pairs,minibatch_labels"
      ]
    },
    {
      "cell_type": "code",
      "execution_count": 6,
      "metadata": {
        "id": "7Qh7nA6DopW0"
      },
      "outputs": [],
      "source": [
        "#traininig data mini batches\n",
        "train_minibatch_pairs,train_minibatch_labels = create_pairs(trs_spectogram)"
      ]
    },
    {
      "cell_type": "code",
      "execution_count": 7,
      "metadata": {
        "colab": {
          "base_uri": "https://localhost:8080/"
        },
        "id": "-gZtrTWiopmD",
        "outputId": "07dc5ca4-e10e-4ad5-cffb-ecf8afa26a3b"
      },
      "outputs": [
        {
          "name": "stdout",
          "output_type": "stream",
          "text": [
            "(4500, 2, 513, 32)\n",
            "(4500,)\n"
          ]
        }
      ],
      "source": [
        "print(train_minibatch_pairs.shape)\n",
        "print(train_minibatch_labels.shape)"
      ]
    },
    {
      "cell_type": "code",
      "execution_count": 8,
      "metadata": {
        "id": "B5fQ5n8Ho5TP"
      },
      "outputs": [],
      "source": [
        "#transpose to get T x 513\n",
        "train_minibatch_pairs = train_minibatch_pairs.transpose(0,1,3,2)"
      ]
    },
    {
      "cell_type": "code",
      "execution_count": 9,
      "metadata": {
        "colab": {
          "base_uri": "https://localhost:8080/"
        },
        "id": "AFWULQtapANk",
        "outputId": "a257555a-ac73-49c9-b19c-c98fb487c74d"
      },
      "outputs": [
        {
          "name": "stdout",
          "output_type": "stream",
          "text": [
            "(4500, 2, 32, 513)\n"
          ]
        }
      ],
      "source": [
        "print(train_minibatch_pairs.shape)"
      ]
    },
    {
      "cell_type": "code",
      "execution_count": 10,
      "metadata": {
        "colab": {
          "base_uri": "https://localhost:8080/"
        },
        "id": "ugZ8ixbtpBsG",
        "outputId": "526cea3b-e9e6-4c86-f9bd-e9e9d4a243da"
      },
      "outputs": [
        {
          "name": "stdout",
          "output_type": "stream",
          "text": [
            "(1800, 2, 45, 513)\n",
            "(1800,)\n"
          ]
        }
      ],
      "source": [
        "test_pairs,test_labels = create_pairs(tes_spectogram)\n",
        "#transpose to get T x 513\n",
        "test_pairs = test_pairs.transpose(0,1,3,2)\n",
        "print(test_pairs.shape)\n",
        "print(test_labels.shape)"
      ]
    },
    {
      "cell_type": "code",
      "execution_count": 63,
      "metadata": {
        "id": "Es3h-O8kpVoH"
      },
      "outputs": [],
      "source": [
        "#input shape\n",
        "input_shape = (None,train_minibatch_pairs.shape[-1])\n",
        "\n",
        "#define network so it can be used for both the inputs\n",
        "def network(input_shape):\n",
        "  sub_network = tf.keras.models.Sequential([\n",
        "      tf.keras.layers.LSTM(64,return_sequences=True,input_shape = input_shape),\n",
        "      tf.keras.layers.LSTM(64,return_sequences=False),\n",
        "      tf.keras.layers.Dense(64,activation='relu') ])\n",
        "  return sub_network\n",
        "\n",
        "\n",
        "base_network = network(input_shape)\n",
        "\n",
        "#two inputs\n",
        "input_1 = tf.keras.layers.Input(shape=input_shape)\n",
        "input_2 = tf.keras.layers.Input(shape=input_shape)\n",
        "\n",
        "#latent encoded features\n",
        "encoded1 = base_network(input_1)\n",
        "encoded2 = base_network(input_2)\n",
        "\n",
        "#inner product\n",
        "inner_prod = tf.keras.layers.Dot(axes=1)([encoded1, encoded2])\n",
        "\n",
        "#sigmoid\n",
        "output = tf.keras.layers.Dense(1,activation='sigmoid')(inner_prod)\n",
        "\n",
        "#siamese network\n",
        "siamese_network = tf.keras.models.Model(inputs=[input_1, input_2], outputs=output)\n",
        "siamese_network.compile(optimizer=tf.keras.optimizers.Adam(learning_rate=0.00003) ,loss='binary_crossentropy',metrics=['accuracy'])"
      ]
    },
    {
      "cell_type": "code",
      "execution_count": 64,
      "metadata": {
        "colab": {
          "base_uri": "https://localhost:8080/"
        },
        "id": "4nHpeBKbr1M9",
        "outputId": "ea6288ad-a518-4da8-cee9-c3b4358aa454"
      },
      "outputs": [
        {
          "name": "stdout",
          "output_type": "stream",
          "text": [
            "Model: \"sequential_13\"\n",
            "_________________________________________________________________\n",
            " Layer (type)                Output Shape              Param #   \n",
            "=================================================================\n",
            " lstm_16 (LSTM)              (None, None, 64)          147968    \n",
            "                                                                 \n",
            " lstm_17 (LSTM)              (None, 64)                33024     \n",
            "                                                                 \n",
            " dense_26 (Dense)            (None, 64)                4160      \n",
            "                                                                 \n",
            "=================================================================\n",
            "Total params: 185152 (723.25 KB)\n",
            "Trainable params: 185152 (723.25 KB)\n",
            "Non-trainable params: 0 (0.00 Byte)\n",
            "_________________________________________________________________\n"
          ]
        }
      ],
      "source": [
        "base_network.summary()"
      ]
    },
    {
      "cell_type": "code",
      "execution_count": 65,
      "metadata": {
        "colab": {
          "base_uri": "https://localhost:8080/"
        },
        "id": "4cggI7jHskrD",
        "outputId": "4c5e7a61-c57f-4e82-f925-a55523ef8627"
      },
      "outputs": [
        {
          "name": "stdout",
          "output_type": "stream",
          "text": [
            "Model: \"model_13\"\n",
            "__________________________________________________________________________________________________\n",
            " Layer (type)                Output Shape                 Param #   Connected to                  \n",
            "==================================================================================================\n",
            " input_27 (InputLayer)       [(None, None, 513)]          0         []                            \n",
            "                                                                                                  \n",
            " input_28 (InputLayer)       [(None, None, 513)]          0         []                            \n",
            "                                                                                                  \n",
            " sequential_13 (Sequential)  (None, 64)                   185152    ['input_27[0][0]',            \n",
            "                                                                     'input_28[0][0]']            \n",
            "                                                                                                  \n",
            " dot_13 (Dot)                (None, 1)                    0         ['sequential_13[0][0]',       \n",
            "                                                                     'sequential_13[1][0]']       \n",
            "                                                                                                  \n",
            " dense_27 (Dense)            (None, 1)                    2         ['dot_13[0][0]']              \n",
            "                                                                                                  \n",
            "==================================================================================================\n",
            "Total params: 185154 (723.26 KB)\n",
            "Trainable params: 185154 (723.26 KB)\n",
            "Non-trainable params: 0 (0.00 Byte)\n",
            "__________________________________________________________________________________________________\n"
          ]
        }
      ],
      "source": [
        "siamese_network.summary()"
      ]
    },
    {
      "cell_type": "code",
      "execution_count": 66,
      "metadata": {
        "colab": {
          "base_uri": "https://localhost:8080/"
        },
        "id": "6F3Ag0FfegAm",
        "outputId": "9e668b66-bde4-425a-f5f4-42fbe88980b9"
      },
      "outputs": [
        {
          "name": "stdout",
          "output_type": "stream",
          "text": [
            "Epoch 1/200\n",
            "50/50 [==============================] - 10s 73ms/step - loss: 0.7005 - accuracy: 0.5000 - val_loss: 0.6921 - val_accuracy: 0.5000\n",
            "Epoch 2/200\n",
            "50/50 [==============================] - 1s 23ms/step - loss: 0.6902 - accuracy: 0.5000 - val_loss: 0.6904 - val_accuracy: 0.4994\n",
            "Epoch 3/200\n",
            "50/50 [==============================] - 1s 25ms/step - loss: 0.6880 - accuracy: 0.5000 - val_loss: 0.6894 - val_accuracy: 0.4994\n",
            "Epoch 4/200\n",
            "50/50 [==============================] - 1s 30ms/step - loss: 0.6856 - accuracy: 0.4996 - val_loss: 0.6881 - val_accuracy: 0.4994\n",
            "Epoch 5/200\n",
            "50/50 [==============================] - 2s 38ms/step - loss: 0.6823 - accuracy: 0.4998 - val_loss: 0.6861 - val_accuracy: 0.4994\n",
            "Epoch 6/200\n",
            "50/50 [==============================] - 1s 26ms/step - loss: 0.6771 - accuracy: 0.4998 - val_loss: 0.6817 - val_accuracy: 0.4994\n",
            "Epoch 7/200\n",
            "50/50 [==============================] - 1s 24ms/step - loss: 0.6709 - accuracy: 0.5016 - val_loss: 0.6768 - val_accuracy: 0.5006\n",
            "Epoch 8/200\n",
            "50/50 [==============================] - 1s 24ms/step - loss: 0.6638 - accuracy: 0.5060 - val_loss: 0.6742 - val_accuracy: 0.5017\n",
            "Epoch 9/200\n",
            "50/50 [==============================] - 1s 24ms/step - loss: 0.6575 - accuracy: 0.5162 - val_loss: 0.6709 - val_accuracy: 0.5067\n",
            "Epoch 10/200\n",
            "50/50 [==============================] - 1s 24ms/step - loss: 0.6520 - accuracy: 0.5240 - val_loss: 0.6670 - val_accuracy: 0.5133\n",
            "Epoch 11/200\n",
            "50/50 [==============================] - 1s 24ms/step - loss: 0.6478 - accuracy: 0.5329 - val_loss: 0.6710 - val_accuracy: 0.5178\n",
            "Epoch 12/200\n",
            "50/50 [==============================] - 1s 24ms/step - loss: 0.6428 - accuracy: 0.5422 - val_loss: 0.6611 - val_accuracy: 0.5333\n",
            "Epoch 13/200\n",
            "50/50 [==============================] - 1s 24ms/step - loss: 0.6394 - accuracy: 0.5516 - val_loss: 0.6617 - val_accuracy: 0.5333\n",
            "Epoch 14/200\n",
            "50/50 [==============================] - 2s 33ms/step - loss: 0.6343 - accuracy: 0.5549 - val_loss: 0.6615 - val_accuracy: 0.5433\n",
            "Epoch 15/200\n",
            "50/50 [==============================] - 2s 37ms/step - loss: 0.6296 - accuracy: 0.5644 - val_loss: 0.6605 - val_accuracy: 0.5444\n",
            "Epoch 16/200\n",
            "50/50 [==============================] - 1s 25ms/step - loss: 0.6248 - accuracy: 0.5642 - val_loss: 0.6630 - val_accuracy: 0.5433\n",
            "Epoch 17/200\n",
            "50/50 [==============================] - 1s 24ms/step - loss: 0.6189 - accuracy: 0.5711 - val_loss: 0.6608 - val_accuracy: 0.5533\n",
            "Epoch 18/200\n",
            "50/50 [==============================] - 1s 24ms/step - loss: 0.6139 - accuracy: 0.5800 - val_loss: 0.6627 - val_accuracy: 0.5522\n",
            "Epoch 19/200\n",
            "50/50 [==============================] - 1s 25ms/step - loss: 0.6084 - accuracy: 0.5844 - val_loss: 0.6590 - val_accuracy: 0.5667\n",
            "Epoch 20/200\n",
            "50/50 [==============================] - 1s 24ms/step - loss: 0.6035 - accuracy: 0.5984 - val_loss: 0.6572 - val_accuracy: 0.5772\n",
            "Epoch 21/200\n",
            "50/50 [==============================] - 1s 24ms/step - loss: 0.5990 - accuracy: 0.6080 - val_loss: 0.6541 - val_accuracy: 0.5861\n",
            "Epoch 22/200\n",
            "50/50 [==============================] - 1s 24ms/step - loss: 0.5962 - accuracy: 0.6136 - val_loss: 0.6545 - val_accuracy: 0.5961\n",
            "Epoch 23/200\n",
            "50/50 [==============================] - 1s 24ms/step - loss: 0.5904 - accuracy: 0.6271 - val_loss: 0.6567 - val_accuracy: 0.5972\n",
            "Epoch 24/200\n",
            "50/50 [==============================] - 2s 34ms/step - loss: 0.5870 - accuracy: 0.6349 - val_loss: 0.6571 - val_accuracy: 0.5978\n",
            "Epoch 25/200\n",
            "50/50 [==============================] - 2s 34ms/step - loss: 0.5828 - accuracy: 0.6411 - val_loss: 0.6562 - val_accuracy: 0.6133\n",
            "Epoch 26/200\n",
            "50/50 [==============================] - 1s 27ms/step - loss: 0.5799 - accuracy: 0.6542 - val_loss: 0.6524 - val_accuracy: 0.6083\n",
            "Epoch 27/200\n",
            "50/50 [==============================] - 1s 23ms/step - loss: 0.5763 - accuracy: 0.6584 - val_loss: 0.6547 - val_accuracy: 0.6133\n",
            "Epoch 28/200\n",
            "50/50 [==============================] - 1s 24ms/step - loss: 0.5723 - accuracy: 0.6689 - val_loss: 0.6546 - val_accuracy: 0.6217\n",
            "Epoch 29/200\n",
            "50/50 [==============================] - 1s 24ms/step - loss: 0.5689 - accuracy: 0.6736 - val_loss: 0.6572 - val_accuracy: 0.6183\n",
            "Epoch 30/200\n",
            "50/50 [==============================] - 1s 24ms/step - loss: 0.5659 - accuracy: 0.6842 - val_loss: 0.6477 - val_accuracy: 0.6300\n",
            "Epoch 31/200\n",
            "50/50 [==============================] - 1s 25ms/step - loss: 0.5631 - accuracy: 0.6911 - val_loss: 0.6549 - val_accuracy: 0.6306\n",
            "Epoch 32/200\n",
            "50/50 [==============================] - 1s 24ms/step - loss: 0.5593 - accuracy: 0.6967 - val_loss: 0.6554 - val_accuracy: 0.6433\n",
            "Epoch 33/200\n",
            "50/50 [==============================] - 1s 23ms/step - loss: 0.5569 - accuracy: 0.7031 - val_loss: 0.6499 - val_accuracy: 0.6533\n",
            "Epoch 34/200\n",
            "50/50 [==============================] - 2s 32ms/step - loss: 0.5528 - accuracy: 0.7067 - val_loss: 0.6518 - val_accuracy: 0.6600\n",
            "Epoch 35/200\n",
            "50/50 [==============================] - 2s 31ms/step - loss: 0.5501 - accuracy: 0.7193 - val_loss: 0.6465 - val_accuracy: 0.6717\n",
            "Epoch 36/200\n",
            "50/50 [==============================] - 1s 28ms/step - loss: 0.5469 - accuracy: 0.7202 - val_loss: 0.6487 - val_accuracy: 0.6644\n",
            "Epoch 37/200\n",
            "50/50 [==============================] - 1s 23ms/step - loss: 0.5440 - accuracy: 0.7296 - val_loss: 0.6519 - val_accuracy: 0.6767\n",
            "Epoch 38/200\n",
            "50/50 [==============================] - 1s 24ms/step - loss: 0.5423 - accuracy: 0.7360 - val_loss: 0.6504 - val_accuracy: 0.6656\n",
            "Epoch 39/200\n",
            "50/50 [==============================] - 1s 23ms/step - loss: 0.5389 - accuracy: 0.7380 - val_loss: 0.6422 - val_accuracy: 0.6733\n",
            "Epoch 40/200\n",
            "50/50 [==============================] - 1s 23ms/step - loss: 0.5376 - accuracy: 0.7429 - val_loss: 0.6447 - val_accuracy: 0.6794\n",
            "Epoch 41/200\n",
            "50/50 [==============================] - 1s 24ms/step - loss: 0.5335 - accuracy: 0.7511 - val_loss: 0.6447 - val_accuracy: 0.6806\n",
            "Epoch 42/200\n",
            "50/50 [==============================] - 1s 24ms/step - loss: 0.5312 - accuracy: 0.7507 - val_loss: 0.6515 - val_accuracy: 0.6667\n",
            "Epoch 43/200\n",
            "50/50 [==============================] - 1s 23ms/step - loss: 0.5291 - accuracy: 0.7609 - val_loss: 0.6492 - val_accuracy: 0.6772\n",
            "Epoch 44/200\n",
            "50/50 [==============================] - 1s 23ms/step - loss: 0.5265 - accuracy: 0.7611 - val_loss: 0.6449 - val_accuracy: 0.6822\n",
            "Epoch 45/200\n",
            "50/50 [==============================] - 2s 31ms/step - loss: 0.5240 - accuracy: 0.7680 - val_loss: 0.6479 - val_accuracy: 0.6806\n",
            "Epoch 46/200\n",
            "50/50 [==============================] - 2s 36ms/step - loss: 0.5207 - accuracy: 0.7711 - val_loss: 0.6517 - val_accuracy: 0.6850\n",
            "Epoch 47/200\n",
            "50/50 [==============================] - 1s 24ms/step - loss: 0.5193 - accuracy: 0.7744 - val_loss: 0.6451 - val_accuracy: 0.6867\n",
            "Epoch 48/200\n",
            "50/50 [==============================] - 1s 23ms/step - loss: 0.5166 - accuracy: 0.7838 - val_loss: 0.6393 - val_accuracy: 0.6994\n",
            "Epoch 49/200\n",
            "50/50 [==============================] - 1s 23ms/step - loss: 0.5143 - accuracy: 0.7822 - val_loss: 0.6413 - val_accuracy: 0.6928\n",
            "Epoch 50/200\n",
            "50/50 [==============================] - 1s 26ms/step - loss: 0.5122 - accuracy: 0.7920 - val_loss: 0.6488 - val_accuracy: 0.6928\n",
            "Epoch 51/200\n",
            "50/50 [==============================] - 1s 24ms/step - loss: 0.5095 - accuracy: 0.7900 - val_loss: 0.6411 - val_accuracy: 0.6961\n",
            "Epoch 52/200\n",
            "50/50 [==============================] - 1s 24ms/step - loss: 0.5075 - accuracy: 0.7971 - val_loss: 0.6507 - val_accuracy: 0.6900\n",
            "Epoch 53/200\n",
            "50/50 [==============================] - 1s 24ms/step - loss: 0.5059 - accuracy: 0.7987 - val_loss: 0.6409 - val_accuracy: 0.7039\n",
            "Epoch 54/200\n",
            "50/50 [==============================] - 1s 23ms/step - loss: 0.5041 - accuracy: 0.8022 - val_loss: 0.6359 - val_accuracy: 0.7061\n",
            "Epoch 55/200\n",
            "50/50 [==============================] - 2s 31ms/step - loss: 0.5020 - accuracy: 0.8073 - val_loss: 0.6387 - val_accuracy: 0.7028\n",
            "Epoch 56/200\n",
            "50/50 [==============================] - 2s 42ms/step - loss: 0.4999 - accuracy: 0.8084 - val_loss: 0.6381 - val_accuracy: 0.7056\n",
            "Epoch 57/200\n",
            "50/50 [==============================] - 2s 38ms/step - loss: 0.4984 - accuracy: 0.8133 - val_loss: 0.6429 - val_accuracy: 0.6994\n",
            "Epoch 58/200\n",
            "50/50 [==============================] - 2s 34ms/step - loss: 0.4965 - accuracy: 0.8113 - val_loss: 0.6390 - val_accuracy: 0.7006\n",
            "Epoch 59/200\n",
            "50/50 [==============================] - 1s 24ms/step - loss: 0.4941 - accuracy: 0.8149 - val_loss: 0.6358 - val_accuracy: 0.7067\n",
            "Epoch 60/200\n",
            "50/50 [==============================] - 1s 24ms/step - loss: 0.4935 - accuracy: 0.8151 - val_loss: 0.6400 - val_accuracy: 0.7083\n",
            "Epoch 61/200\n",
            "50/50 [==============================] - 1s 24ms/step - loss: 0.4911 - accuracy: 0.8189 - val_loss: 0.6368 - val_accuracy: 0.7106\n",
            "Epoch 62/200\n",
            "50/50 [==============================] - 1s 23ms/step - loss: 0.4889 - accuracy: 0.8238 - val_loss: 0.6357 - val_accuracy: 0.7122\n",
            "Epoch 63/200\n",
            "50/50 [==============================] - 1s 24ms/step - loss: 0.4872 - accuracy: 0.8216 - val_loss: 0.6335 - val_accuracy: 0.7150\n",
            "Epoch 64/200\n",
            "50/50 [==============================] - 1s 23ms/step - loss: 0.4861 - accuracy: 0.8231 - val_loss: 0.6419 - val_accuracy: 0.7122\n",
            "Epoch 65/200\n",
            "50/50 [==============================] - 1s 24ms/step - loss: 0.4832 - accuracy: 0.8278 - val_loss: 0.6405 - val_accuracy: 0.7156\n",
            "Epoch 66/200\n",
            "50/50 [==============================] - 1s 24ms/step - loss: 0.4814 - accuracy: 0.8282 - val_loss: 0.6419 - val_accuracy: 0.7183\n",
            "Epoch 67/200\n",
            "50/50 [==============================] - 2s 37ms/step - loss: 0.4801 - accuracy: 0.8296 - val_loss: 0.6434 - val_accuracy: 0.7228\n",
            "Epoch 68/200\n",
            "50/50 [==============================] - 2s 31ms/step - loss: 0.4785 - accuracy: 0.8329 - val_loss: 0.6371 - val_accuracy: 0.7172\n",
            "Epoch 69/200\n",
            "50/50 [==============================] - 1s 24ms/step - loss: 0.4762 - accuracy: 0.8336 - val_loss: 0.6322 - val_accuracy: 0.7194\n",
            "Epoch 70/200\n",
            "50/50 [==============================] - 1s 23ms/step - loss: 0.4751 - accuracy: 0.8367 - val_loss: 0.6390 - val_accuracy: 0.7200\n",
            "Epoch 71/200\n",
            "50/50 [==============================] - 1s 24ms/step - loss: 0.4729 - accuracy: 0.8391 - val_loss: 0.6367 - val_accuracy: 0.7222\n",
            "Epoch 72/200\n",
            "50/50 [==============================] - 1s 24ms/step - loss: 0.4720 - accuracy: 0.8376 - val_loss: 0.6457 - val_accuracy: 0.7250\n",
            "Epoch 73/200\n",
            "50/50 [==============================] - 1s 24ms/step - loss: 0.4708 - accuracy: 0.8442 - val_loss: 0.6398 - val_accuracy: 0.7178\n",
            "Epoch 74/200\n",
            "50/50 [==============================] - 1s 24ms/step - loss: 0.4689 - accuracy: 0.8431 - val_loss: 0.6366 - val_accuracy: 0.7228\n",
            "Epoch 75/200\n",
            "50/50 [==============================] - 1s 23ms/step - loss: 0.4672 - accuracy: 0.8436 - val_loss: 0.6454 - val_accuracy: 0.7244\n",
            "Epoch 76/200\n",
            "50/50 [==============================] - 1s 24ms/step - loss: 0.4658 - accuracy: 0.8440 - val_loss: 0.6487 - val_accuracy: 0.7261\n",
            "Epoch 77/200\n",
            "50/50 [==============================] - 1s 30ms/step - loss: 0.4646 - accuracy: 0.8467 - val_loss: 0.6418 - val_accuracy: 0.7289\n",
            "Epoch 78/200\n",
            "50/50 [==============================] - 2s 31ms/step - loss: 0.4625 - accuracy: 0.8473 - val_loss: 0.6361 - val_accuracy: 0.7189\n",
            "Epoch 79/200\n",
            "50/50 [==============================] - 1s 27ms/step - loss: 0.4614 - accuracy: 0.8542 - val_loss: 0.6297 - val_accuracy: 0.7339\n",
            "Epoch 80/200\n",
            "50/50 [==============================] - 1s 23ms/step - loss: 0.4596 - accuracy: 0.8509 - val_loss: 0.6422 - val_accuracy: 0.7317\n",
            "Epoch 81/200\n",
            "50/50 [==============================] - 1s 23ms/step - loss: 0.4579 - accuracy: 0.8531 - val_loss: 0.6309 - val_accuracy: 0.7306\n",
            "Epoch 82/200\n",
            "50/50 [==============================] - 1s 24ms/step - loss: 0.4567 - accuracy: 0.8518 - val_loss: 0.6427 - val_accuracy: 0.7261\n",
            "Epoch 83/200\n",
            "50/50 [==============================] - 1s 28ms/step - loss: 0.4551 - accuracy: 0.8553 - val_loss: 0.6318 - val_accuracy: 0.7328\n",
            "Epoch 84/200\n",
            "50/50 [==============================] - 1s 25ms/step - loss: 0.4539 - accuracy: 0.8536 - val_loss: 0.6458 - val_accuracy: 0.7250\n",
            "Epoch 85/200\n",
            "50/50 [==============================] - 1s 24ms/step - loss: 0.4517 - accuracy: 0.8589 - val_loss: 0.6390 - val_accuracy: 0.7306\n",
            "Epoch 86/200\n",
            "50/50 [==============================] - 1s 24ms/step - loss: 0.4500 - accuracy: 0.8596 - val_loss: 0.6420 - val_accuracy: 0.7300\n",
            "Epoch 87/200\n",
            "50/50 [==============================] - 1s 28ms/step - loss: 0.4480 - accuracy: 0.8647 - val_loss: 0.6312 - val_accuracy: 0.7367\n",
            "Epoch 88/200\n",
            "50/50 [==============================] - 2s 36ms/step - loss: 0.4485 - accuracy: 0.8622 - val_loss: 0.6352 - val_accuracy: 0.7361\n",
            "Epoch 89/200\n",
            "50/50 [==============================] - 1s 27ms/step - loss: 0.4463 - accuracy: 0.8678 - val_loss: 0.6400 - val_accuracy: 0.7389\n",
            "Epoch 90/200\n",
            "50/50 [==============================] - 1s 24ms/step - loss: 0.4448 - accuracy: 0.8671 - val_loss: 0.6402 - val_accuracy: 0.7372\n",
            "Epoch 91/200\n",
            "50/50 [==============================] - 1s 23ms/step - loss: 0.4431 - accuracy: 0.8658 - val_loss: 0.6456 - val_accuracy: 0.7322\n",
            "Epoch 92/200\n",
            "50/50 [==============================] - 1s 24ms/step - loss: 0.4435 - accuracy: 0.8667 - val_loss: 0.6275 - val_accuracy: 0.7400\n",
            "Epoch 93/200\n",
            "50/50 [==============================] - 1s 24ms/step - loss: 0.4401 - accuracy: 0.8700 - val_loss: 0.6360 - val_accuracy: 0.7372\n",
            "Epoch 94/200\n",
            "50/50 [==============================] - 1s 25ms/step - loss: 0.4382 - accuracy: 0.8740 - val_loss: 0.6488 - val_accuracy: 0.7350\n",
            "Epoch 95/200\n",
            "50/50 [==============================] - 1s 24ms/step - loss: 0.4378 - accuracy: 0.8716 - val_loss: 0.6344 - val_accuracy: 0.7450\n",
            "Epoch 96/200\n",
            "50/50 [==============================] - 1s 24ms/step - loss: 0.4362 - accuracy: 0.8747 - val_loss: 0.6338 - val_accuracy: 0.7411\n",
            "Epoch 97/200\n",
            "50/50 [==============================] - 1s 27ms/step - loss: 0.4349 - accuracy: 0.8751 - val_loss: 0.6355 - val_accuracy: 0.7350\n",
            "Epoch 98/200\n",
            "50/50 [==============================] - 2s 38ms/step - loss: 0.4334 - accuracy: 0.8767 - val_loss: 0.6378 - val_accuracy: 0.7333\n",
            "Epoch 99/200\n",
            "50/50 [==============================] - 2s 30ms/step - loss: 0.4322 - accuracy: 0.8769 - val_loss: 0.6359 - val_accuracy: 0.7422\n",
            "Epoch 100/200\n",
            "50/50 [==============================] - 1s 24ms/step - loss: 0.4301 - accuracy: 0.8807 - val_loss: 0.6385 - val_accuracy: 0.7394\n",
            "Epoch 101/200\n",
            "50/50 [==============================] - 1s 23ms/step - loss: 0.4296 - accuracy: 0.8793 - val_loss: 0.6327 - val_accuracy: 0.7306\n",
            "Epoch 102/200\n",
            "50/50 [==============================] - 1s 25ms/step - loss: 0.4275 - accuracy: 0.8811 - val_loss: 0.6345 - val_accuracy: 0.7339\n",
            "Epoch 103/200\n",
            "50/50 [==============================] - 1s 24ms/step - loss: 0.4262 - accuracy: 0.8816 - val_loss: 0.6411 - val_accuracy: 0.7433\n",
            "Epoch 104/200\n",
            "50/50 [==============================] - 1s 24ms/step - loss: 0.4252 - accuracy: 0.8782 - val_loss: 0.6325 - val_accuracy: 0.7450\n",
            "Epoch 105/200\n",
            "50/50 [==============================] - 1s 24ms/step - loss: 0.4241 - accuracy: 0.8847 - val_loss: 0.6343 - val_accuracy: 0.7411\n",
            "Epoch 106/200\n",
            "50/50 [==============================] - 1s 24ms/step - loss: 0.4226 - accuracy: 0.8860 - val_loss: 0.6392 - val_accuracy: 0.7406\n",
            "Epoch 107/200\n",
            "50/50 [==============================] - 1s 30ms/step - loss: 0.4216 - accuracy: 0.8842 - val_loss: 0.6411 - val_accuracy: 0.7328\n",
            "Epoch 108/200\n",
            "50/50 [==============================] - 2s 33ms/step - loss: 0.4197 - accuracy: 0.8858 - val_loss: 0.6377 - val_accuracy: 0.7411\n",
            "Epoch 109/200\n",
            "50/50 [==============================] - 2s 31ms/step - loss: 0.4184 - accuracy: 0.8889 - val_loss: 0.6323 - val_accuracy: 0.7394\n",
            "Epoch 110/200\n",
            "50/50 [==============================] - 1s 23ms/step - loss: 0.4167 - accuracy: 0.8896 - val_loss: 0.6285 - val_accuracy: 0.7406\n",
            "Epoch 111/200\n",
            "50/50 [==============================] - 1s 23ms/step - loss: 0.4153 - accuracy: 0.8936 - val_loss: 0.6358 - val_accuracy: 0.7389\n",
            "Epoch 112/200\n",
            "50/50 [==============================] - 1s 22ms/step - loss: 0.4147 - accuracy: 0.8922 - val_loss: 0.6433 - val_accuracy: 0.7333\n",
            "Epoch 113/200\n",
            "50/50 [==============================] - 1s 25ms/step - loss: 0.4127 - accuracy: 0.8949 - val_loss: 0.6297 - val_accuracy: 0.7333\n",
            "Epoch 114/200\n",
            "50/50 [==============================] - 1s 24ms/step - loss: 0.4117 - accuracy: 0.8951 - val_loss: 0.6396 - val_accuracy: 0.7378\n",
            "Epoch 115/200\n",
            "50/50 [==============================] - 1s 24ms/step - loss: 0.4100 - accuracy: 0.8944 - val_loss: 0.6348 - val_accuracy: 0.7422\n",
            "Epoch 116/200\n",
            "50/50 [==============================] - 1s 23ms/step - loss: 0.4086 - accuracy: 0.8964 - val_loss: 0.6457 - val_accuracy: 0.7306\n",
            "Epoch 117/200\n",
            "50/50 [==============================] - 1s 24ms/step - loss: 0.4078 - accuracy: 0.8958 - val_loss: 0.6430 - val_accuracy: 0.7356\n",
            "Epoch 118/200\n",
            "50/50 [==============================] - 1s 30ms/step - loss: 0.4058 - accuracy: 0.8978 - val_loss: 0.6462 - val_accuracy: 0.7361\n",
            "Epoch 119/200\n",
            "50/50 [==============================] - 2s 33ms/step - loss: 0.4043 - accuracy: 0.8984 - val_loss: 0.6394 - val_accuracy: 0.7394\n",
            "Epoch 120/200\n",
            "50/50 [==============================] - 1s 28ms/step - loss: 0.4032 - accuracy: 0.9007 - val_loss: 0.6502 - val_accuracy: 0.7372\n",
            "Epoch 121/200\n",
            "50/50 [==============================] - 1s 24ms/step - loss: 0.4022 - accuracy: 0.9011 - val_loss: 0.6471 - val_accuracy: 0.7339\n",
            "Epoch 122/200\n",
            "50/50 [==============================] - 1s 24ms/step - loss: 0.4004 - accuracy: 0.9016 - val_loss: 0.6398 - val_accuracy: 0.7367\n",
            "Epoch 123/200\n",
            "50/50 [==============================] - 1s 24ms/step - loss: 0.4002 - accuracy: 0.9040 - val_loss: 0.6608 - val_accuracy: 0.7294\n",
            "Epoch 124/200\n",
            "50/50 [==============================] - 1s 23ms/step - loss: 0.3988 - accuracy: 0.9038 - val_loss: 0.6465 - val_accuracy: 0.7361\n",
            "Epoch 125/200\n",
            "50/50 [==============================] - 1s 23ms/step - loss: 0.3977 - accuracy: 0.9047 - val_loss: 0.6549 - val_accuracy: 0.7333\n",
            "Epoch 126/200\n",
            "50/50 [==============================] - 1s 23ms/step - loss: 0.3968 - accuracy: 0.9058 - val_loss: 0.6490 - val_accuracy: 0.7267\n",
            "Epoch 127/200\n",
            "50/50 [==============================] - 1s 23ms/step - loss: 0.3947 - accuracy: 0.9084 - val_loss: 0.6413 - val_accuracy: 0.7311\n"
          ]
        }
      ],
      "source": [
        "# Define early stopping\n",
        "early_stopping = tf.keras.callbacks.EarlyStopping(monitor='val_loss', patience=35,restore_best_weights=True)\n",
        "\n",
        "#fit the model\n",
        "siamese_history = siamese_network.fit([train_minibatch_pairs[:,0], train_minibatch_pairs[:,1]], train_minibatch_labels,\n",
        "                                      epochs=200, batch_size=90,validation_data=([test_pairs[:,0], test_pairs[:,1]], test_labels),callbacks=[early_stopping])"
      ]
    },
    {
      "cell_type": "code",
      "execution_count": 70,
      "metadata": {
        "colab": {
          "base_uri": "https://localhost:8080/",
          "height": 449
        },
        "id": "LkNLiTqXJ0xO",
        "outputId": "ef3b774c-6936-4f87-c12c-d9b9b81d2e19"
      },
      "outputs": [
        {
          "data": {
            "image/png": "[encoded data removed]",
            "text/plain": [
              "<Figure size 640x480 with 1 Axes>"
            ]
          },
          "metadata": {},
          "output_type": "display_data"
        }
      ],
      "source": [
        "plt.plot([acc*100 for acc in siamese_history.history['val_accuracy']],label = 'Validation Accuracy')\n",
        "plt.xlabel('Epochs')\n",
        "plt.ylabel('Accuracy')\n",
        "plt.legend()\n",
        "plt.show()"
      ]
    },
    {
      "cell_type": "code",
      "execution_count": 71,
      "metadata": {
        "colab": {
          "base_uri": "https://localhost:8080/"
        },
        "id": "NnLbXnQzrnx-",
        "outputId": "291d8da1-68bf-4fdf-e831-73fa7c45fefe"
      },
      "outputs": [
        {
          "name": "stdout",
          "output_type": "stream",
          "text": [
            "Speaker verification test data accuracy: 74.00%\n"
          ]
        }
      ],
      "source": [
        "test_speaker_loss,test_speaker_acc = siamese_network.evaluate([test_pairs[:,0],test_pairs[:,1]],test_labels,verbose=0)\n",
        "print(f'Speaker verification test data accuracy: {test_speaker_acc*100:.2f}%')"
      ]
    },
    {
      "cell_type": "markdown",
      "metadata": {
        "id": "GJouZvDJuOfe"
      },
      "source": [
        "- As expected, with just simple architecture(2 LSTM layers and 1 dense layer) 74% accuracy is achieved."
      ]
    }
  ],
  "metadata": {
    "accelerator": "GPU",
    "colab": {
      "provenance": []
    },
    "kernelspec": {
      "display_name": "Python 3",
      "name": "python3"
    },
    "language_info": {
      "name": "python"
    }
  },
  "nbformat": 4,
  "nbformat_minor": 0
}
